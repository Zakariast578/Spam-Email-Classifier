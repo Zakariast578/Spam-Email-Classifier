{
 "cells": [
  {
   "cell_type": "markdown",
   "id": "6bd1f6f9-38c7-423d-8911-f551e702e696",
   "metadata": {},
   "source": [
    "# HamiSkills Spam Email Classifier\n",
    "\n",
    "This notebook demonstrates a basic **spam email classifier** for Hami MiniMarket using Python and scikit-learn.\n"
   ]
  },
  {
   "cell_type": "markdown",
   "id": "f05637a6-8bed-46dd-b519-89ecc8b36a8f",
   "metadata": {},
   "source": [
    "\n",
    "## Step 1: Load Libraries\n",
    "We import all the necessary libraries for data manipulation, text preprocessing, model training, and evaluation.\n",
    "\n",
    "\n"
   ]
  },
  {
   "cell_type": "code",
   "execution_count": 1,
   "id": "bde388b7-c3b5-4bd4-afbc-e41954240ba1",
   "metadata": {},
   "outputs": [],
   "source": [
    "# Data handling\n",
    "import pandas as pd\n",
    "import numpy as np\n",
    "\n",
    "# Text preprocessing\n",
    "from sklearn.feature_extraction.text import TfidfVectorizer\n",
    "from sklearn.model_selection import train_test_split\n",
    "\n",
    "# Machine Learning models\n",
    "from sklearn.linear_model import LogisticRegression\n",
    "from sklearn.ensemble import RandomForestClassifier\n",
    "from sklearn.naive_bayes import MultinomialNB\n",
    "\n",
    "# Evaluation\n",
    "from sklearn.metrics import accuracy_score, precision_score, recall_score, f1_score, confusion_matrix\n",
    "\n",
    "# saving model\n",
    "import joblib\n",
    "import joblib\n",
    "\n",
    "# Visualization\n",
    "import matplotlib.pyplot as plt\n",
    "import seaborn as sns"
   ]
  },
  {
   "cell_type": "markdown",
   "id": "d830894b-5062-480a-a08f-19d0e9a5104a",
   "metadata": {},
   "source": [
    "## Step 2: Load Dataset\n",
    "We load the SMS Spam Collection dataset and check its structure."
   ]
  },
  {
   "cell_type": "code",
   "execution_count": 2,
   "id": "e9db6850-3fb9-4bbe-8094-6f6932ced986",
   "metadata": {},
   "outputs": [
    {
     "name": "stdout",
     "output_type": "stream",
     "text": [
      "label      0\n",
      "message    0\n",
      "dtype: int64\n",
      "(5572, 2)\n",
      "label\n",
      "ham     4825\n",
      "spam     747\n",
      "Name: count, dtype: int64\n"
     ]
    }
   ],
   "source": [
    "data = pd.read_csv(\"SMSSpamCollection\", sep='\\t', names=['label', 'message'])\n",
    "\n",
    "data.head()\n",
    "print(data.isnull().sum())\n",
    "\n",
    "# Check dataset shape and balance\n",
    "print(data.shape)\n",
    "print(data['label'].value_counts())\n"
   ]
  },
  {
   "cell_type": "markdown",
   "id": "ddfb2116-6bad-48dd-b619-9279380fab2a",
   "metadata": {},
   "source": [
    "## Step 3: Data Preprocessing\n",
    "We clean the text data for better model performance\n",
    "- Encode labels (ham=0, spam=1)"
   ]
  },
  {
   "cell_type": "code",
   "execution_count": 3,
   "id": "f7af9c97-6bc5-42d0-b692-bd3ec1156ed8",
   "metadata": {},
   "outputs": [
    {
     "data": {
      "text/html": [
       "<div>\n",
       "<style scoped>\n",
       "    .dataframe tbody tr th:only-of-type {\n",
       "        vertical-align: middle;\n",
       "    }\n",
       "\n",
       "    .dataframe tbody tr th {\n",
       "        vertical-align: top;\n",
       "    }\n",
       "\n",
       "    .dataframe thead th {\n",
       "        text-align: right;\n",
       "    }\n",
       "</style>\n",
       "<table border=\"1\" class=\"dataframe\">\n",
       "  <thead>\n",
       "    <tr style=\"text-align: right;\">\n",
       "      <th></th>\n",
       "      <th>label</th>\n",
       "      <th>message</th>\n",
       "    </tr>\n",
       "  </thead>\n",
       "  <tbody>\n",
       "    <tr>\n",
       "      <th>0</th>\n",
       "      <td>0</td>\n",
       "      <td>Go until jurong point, crazy.. Available only ...</td>\n",
       "    </tr>\n",
       "    <tr>\n",
       "      <th>1</th>\n",
       "      <td>0</td>\n",
       "      <td>Ok lar... Joking wif u oni...</td>\n",
       "    </tr>\n",
       "    <tr>\n",
       "      <th>2</th>\n",
       "      <td>1</td>\n",
       "      <td>Free entry in 2 a wkly comp to win FA Cup fina...</td>\n",
       "    </tr>\n",
       "    <tr>\n",
       "      <th>3</th>\n",
       "      <td>0</td>\n",
       "      <td>U dun say so early hor... U c already then say...</td>\n",
       "    </tr>\n",
       "    <tr>\n",
       "      <th>4</th>\n",
       "      <td>0</td>\n",
       "      <td>Nah I don't think he goes to usf, he lives aro...</td>\n",
       "    </tr>\n",
       "  </tbody>\n",
       "</table>\n",
       "</div>"
      ],
      "text/plain": [
       "   label                                            message\n",
       "0      0  Go until jurong point, crazy.. Available only ...\n",
       "1      0                      Ok lar... Joking wif u oni...\n",
       "2      1  Free entry in 2 a wkly comp to win FA Cup fina...\n",
       "3      0  U dun say so early hor... U c already then say...\n",
       "4      0  Nah I don't think he goes to usf, he lives aro..."
      ]
     },
     "execution_count": 3,
     "metadata": {},
     "output_type": "execute_result"
    }
   ],
   "source": [
    "data['label'] = data['label'].map({'ham':0, 'spam':1})\n",
    "data.head()"
   ]
  },
  {
   "cell_type": "markdown",
   "id": "c2076c75-f42c-4fa5-ab21-9076270c9356",
   "metadata": {},
   "source": [
    "## Step 4: Feature Extraction\n",
    "We convert text messages into numerical features using TF-IDF."
   ]
  },
  {
   "cell_type": "code",
   "execution_count": 4,
   "id": "4f3f8fb0-2b75-43d1-83e3-18109562da78",
   "metadata": {},
   "outputs": [],
   "source": [
    "# Split dataset into features and labels\n",
    "X = data['message']\n",
    "y = data['label']\n",
    "\n",
    "# Split into train/test\n",
    "X_train, X_test, y_train, y_test = train_test_split(X, y, test_size=0.2, random_state=42)\n",
    "\n",
    "# TF-IDF Vectorization\n",
    "tfidf = TfidfVectorizer(min_df=1, stop_words='english', lowercase=True, ngram_range=(1,2))\n",
    "x_train_tfidf = tfidf.fit_transform(X_train)\n",
    "x_test_tfidf = tfidf.transform(X_test)"
   ]
  },
  {
   "cell_type": "markdown",
   "id": "5a094455-9ac7-409e-afd6-b339f66d0a31",
   "metadata": {},
   "source": [
    "## Step 5: Train Model\n",
    "We train a simple Naive Bayes or Logistic Regression classifier on the vectorized text."
   ]
  },
  {
   "cell_type": "code",
   "execution_count": 5,
   "id": "cb8e4792-076f-4a1c-92c0-63066fa75b8f",
   "metadata": {},
   "outputs": [
    {
     "name": "stdout",
     "output_type": "stream",
     "text": [
      "Models trained successfully!\n"
     ]
    }
   ],
   "source": [
    "\n",
    "# Logistic Regression\n",
    "logreg = LogisticRegression(max_iter=1000, class_weight='balanced', random_state=42)\n",
    "logreg.fit(x_train_tfidf, y_train)\n",
    "\n",
    "# Multinomial Naive Bayes\n",
    "naBay = MultinomialNB()\n",
    "naBay.fit(x_train_tfidf, y_train)\n",
    "\n",
    "print(\"Models trained successfully!\")\n"
   ]
  },
  {
   "cell_type": "markdown",
   "id": "f9a43c2f-7ad2-4132-af4a-0b11b2b42f85",
   "metadata": {},
   "source": [
    "## Step 6: Evaluate Model\n",
    "We evaluate the trained model using multiple metrics to understand its performance:\n",
    "- Accuracy: overall correctness\n",
    " - Precision: % of predicted spam that are actually spam\n",
    " - Recall: % of actual spam correctly identified\n",
    " - F1-score: harmonic mean of precision and recall\n",
    " - Confusion matrix: detailed classification results"
   ]
  },
  {
   "cell_type": "code",
   "execution_count": 6,
   "id": "bac22bed-a753-4065-a407-daa7469b1170",
   "metadata": {},
   "outputs": [
    {
     "data": {
      "image/png": "[encoded data removed]",
      "text/plain": [
       "<Figure size 640x480 with 2 Axes>"
      ]
     },
     "metadata": {},
     "output_type": "display_data"
    },
    {
     "name": "stdout",
     "output_type": "stream",
     "text": [
      "\n",
      "Logistic Regression Metrics:\n",
      "Accuracy: 0.99\n",
      " Precision: 0.99\n",
      " Recall: 0.99\n",
      " F1: 0.99\n",
      "             Pred Ham  Pred Spam\n",
      "Actual Ham        143          6\n",
      "Actual Spam         9        957\n"
     ]
    },
    {
     "data": {
      "image/png": "[encoded data removed]",
      "text/plain": [
       "<Figure size 640x480 with 2 Axes>"
      ]
     },
     "metadata": {},
     "output_type": "display_data"
    },
    {
     "name": "stdout",
     "output_type": "stream",
     "text": [
      "\n",
      "Naive Bayes Metrics:\n",
      "Accuracy: 0.97\n",
      " Precision: 0.96\n",
      " Recall: 1.00\n",
      " F1: 0.98\n",
      "             Pred Ham  Pred Spam\n",
      "Actual Ham        110         39\n",
      "Actual Spam         0        966\n"
     ]
    }
   ],
   "source": [
    "# Function to evaluate models\n",
    "def print_metrics(name, y_true, y_pred, positive_label=0):\n",
    "    acc = accuracy_score(y_true, y_pred)\n",
    "    prec = precision_score(y_true, y_pred, pos_label=positive_label)\n",
    "    rec = recall_score(y_true, y_pred, pos_label=positive_label)\n",
    "    f1 = f1_score(y_true, y_pred, pos_label=positive_label)\n",
    "    cm = confusion_matrix(y_true, y_pred, labels=[1,0])\n",
    "    \n",
    "    # Plot confusion matrix\n",
    "    sns.heatmap(cm, annot=True, fmt='d', cmap='Blues')\n",
    "    plt.xlabel('Predicted')\n",
    "    plt.ylabel('Actual')\n",
    "    plt.title(f'{name} Confusion Matrix')\n",
    "    plt.show()\n",
    "    \n",
    "    # Print metrics\n",
    "    print(f\"\\n{name} Metrics:\")\n",
    "    print(f\"Accuracy: {acc:.2f}\\n Precision: {prec:.2f}\\n Recall: {rec:.2f}\\n F1: {f1:.2f}\")\n",
    "    print(pd.DataFrame(cm, index=['Actual Ham','Actual Spam'], columns=['Pred Ham','Pred Spam']))\n",
    "    \n",
    "    return acc, prec, rec, f1, cm\n",
    "\n",
    "# Evaluate Logistic Regression\n",
    "lr_metrics = print_metrics(\"Logistic Regression\", y_test, logreg.predict(x_test_tfidf))\n",
    "\n",
    "# Evaluate Naive Bayes\n",
    "nb_metrics = print_metrics(\"Naive Bayes\", y_test, naBay.predict(x_test_tfidf))\n"
   ]
  },
  {
   "cell_type": "markdown",
   "id": "837b3be6-3239-4ebb-b104-d16e5b62fd99",
   "metadata": {},
   "source": [
    "## Step 7: Save Trained Models and Vectorizer\n",
    "We save the trained models (Logistic Regression and Naive Bayes) and the TF-IDF vectorizer using `joblib`.  \n"
   ]
  },
  {
   "cell_type": "code",
   "execution_count": 7,
   "id": "c0686e9b-8f45-4cf9-b345-73395f2c6221",
   "metadata": {},
   "outputs": [
    {
     "name": "stdout",
     "output_type": "stream",
     "text": [
      "All models and vectorizer saved successfully!\n"
     ]
    }
   ],
   "source": [
    "# Save TF-IDF vectorizer\n",
    "joblib.dump(tfidf, \"motfidf_vectorizer.joblib\")\n",
    "\n",
    "# Save trained models\n",
    "joblib.dump(logreg, \"logistic_regression_model.joblib\")\n",
    "joblib.dump(naBay, \"naive_bayes_model.joblib\")\n",
    "\n",
    "print(\"All models and vectorizer saved successfully!\")\n"
   ]
  },
  {
   "cell_type": "markdown",
   "id": "48b5eb67-29de-4e30-bb75-b213b63a2557",
   "metadata": {},
   "source": [
    "## Step 8: Sanity Check and Test Model with New Message\n",
    "We create a simple function to predict whether a new message is \"Spam\" or \"Not Spam\" using the trained model and TF-IDF vectorizer.\n"
   ]
  },
  {
   "cell_type": "code",
   "execution_count": 8,
   "id": "2bbec770-73db-4786-bf45-f78504687adf",
   "metadata": {},
   "outputs": [
    {
     "name": "stdout",
     "output_type": "stream",
     "text": [
      "{'Logistic Regression': {'label': 'Ham'}, 'Naive Bayes': {'label': 'Ham'}}\n",
      "{'Logistic Regression': {'label': 'Spam'}, 'Naive Bayes': {'label': 'Spam'}}\n",
      "{'Logistic Regression': {'label': 'Spam'}, 'Naive Bayes': {'label': 'Spam'}}\n",
      "{'Logistic Regression': {'label': 'Ham'}, 'Naive Bayes': {'label': 'Ham'}}\n",
      "{'Logistic Regression': {'label': 'Spam'}, 'Naive Bayes': {'label': 'Ham'}}\n"
     ]
    }
   ],
   "source": [
    "# Prediction Function for New Messages\n",
    "models={\"Logistic Regression\": logreg, \"Naive Bayes\": naBay}\n",
    "\n",
    "def predict_message_pro(message, models=models, vectorizer=tfidf):\n",
    "    # Transform message using the trained vectorizer\n",
    "    vect = vectorizer.transform([message])\n",
    "    \n",
    "    # Prepare results dictionary\n",
    "    results = {}\n",
    "    \n",
    "    # Loop through models and predict\n",
    "    for name, model in models.items():\n",
    "        pred_label = model.predict(vect)[0]\n",
    "        # Map numeric prediction to human-readable label\n",
    "        label_str = \"Spam\" if pred_label == 1 else \"Ham\"\n",
    "        results[name] = {\"label\": label_str}\n",
    "    \n",
    "    return results\n",
    "\n",
    "# -----------------------------\n",
    "# Test the function with sample messages\n",
    "test_msgs = [\n",
    "    \"Asc Eng Message-ka wuu fiican yahay, mahadsanid!\",\n",
    "    \"Congratulations! You've won a free iPhone! Click here to claim now.\",\n",
    "    \"Free entry in 2 a weekly competition!\",\n",
    "    \"I will meet you at the cafe tomorrow\",\n",
    "    \"Congratulations, you won a free ticket to Bahamas! Click here.\"\n",
    "]\n",
    "\n",
    "# Run predictions for all messages\n",
    "predictions = [predict_message_pro(msg) for msg in test_msgs]\n",
    "\n",
    "for p in predictions:\n",
    "    print(p)\n"
   ]
  },
  {
   "cell_type": "code",
   "execution_count": 9,
   "id": "75e74fdc-3e05-468a-9597-844782085283",
   "metadata": {},
   "outputs": [
    {
     "name": "stdout",
     "output_type": "stream",
     "text": [
      "=== Hami MiniMarket Spam Classifier CLI ===\n",
      "Type 'exit' to quit\n",
      "\n"
     ]
    },
    {
     "name": "stdin",
     "output_type": "stream",
     "text": [
      "Enter your message:  asc eng Hami miniMarket maleedahay Full intership\n"
     ]
    },
    {
     "name": "stdout",
     "output_type": "stream",
     "text": [
      "\n",
      "Predictions:\n",
      "Logistic Regression: Ham\n",
      "Naive Bayes: Ham\n",
      "----------------------------------------\n"
     ]
    },
    {
     "name": "stdin",
     "output_type": "stream",
     "text": [
      "Enter your message:  yes Eng\n"
     ]
    },
    {
     "name": "stdout",
     "output_type": "stream",
     "text": [
      "\n",
      "Predictions:\n",
      "Logistic Regression: Ham\n",
      "Naive Bayes: Ham\n",
      "----------------------------------------\n"
     ]
    },
    {
     "name": "stdin",
     "output_type": "stream",
     "text": [
      "Enter your message:  ok sidee ku helikaraa marka\n"
     ]
    },
    {
     "name": "stdout",
     "output_type": "stream",
     "text": [
      "\n",
      "Predictions:\n",
      "Logistic Regression: Ham\n",
      "Naive Bayes: Ham\n",
      "----------------------------------------\n"
     ]
    },
    {
     "name": "stdin",
     "output_type": "stream",
     "text": [
      "Enter your message:  clickthislink for free calm!\n"
     ]
    },
    {
     "name": "stdout",
     "output_type": "stream",
     "text": [
      "\n",
      "Predictions:\n",
      "Logistic Regression: Spam\n",
      "Naive Bayes: Ham\n",
      "----------------------------------------\n"
     ]
    },
    {
     "name": "stdin",
     "output_type": "stream",
     "text": [
      "Enter your message:  exit\n"
     ]
    },
    {
     "name": "stdout",
     "output_type": "stream",
     "text": [
      "Goodbye!\n"
     ]
    },
    {
     "name": "stdout",
     "output_type": "stream",
     "text": [
      "Enter your message:  exit\n"
     ]
    },
    {
     "name": "stdout",
     "output_type": "stream",
     "text": [
      "Goodbye!\n"
     ]
    }
   ],
   "source": [
    "\n",
    "# Load saved models and TF-IDF vectorizer from your 'models' folder\n",
    "tfidf = joblib.load(\"tfidf_vectorizer.joblib\")\n",
    "logreg = joblib.load(\"logistic_regression_model.joblib\")\n",
    "naBay = joblib.load(\"naive_bayes_model.joblib\")\n",
    "\n",
    "# Function to predict a single message using both models\n",
    "def predict_message_cli(message):\n",
    "    vect = tfidf.transform([message])\n",
    "    \n",
    "    lr_pred = logreg.predict(vect)[0]\n",
    "    nb_pred = naBay.predict(vect)[0]\n",
    "    \n",
    "    return {\n",
    "        \"Logistic Regression\": \"Spam\" if lr_pred == 1 else \"Ham\",\n",
    "        \"Naive Bayes\": \"Spam\" if nb_pred == 1 else \"Ham\"\n",
    "    }\n",
    "\n",
    "# CLI loop\n",
    "def run_cli():\n",
    "    print(\"=== Hami MiniMarket Spam Classifier CLI ===\")\n",
    "    print(\"Type 'exit' to quit\\n\")\n",
    "    \n",
    "    while True:\n",
    "        message = input(\"Enter your message: \")\n",
    "        if message.lower() == \"exit\":\n",
    "            print(\"Goodbye!\")\n",
    "            break\n",
    "        \n",
    "        predictions = predict_message_cli(message)\n",
    "        print(\"\\nPredictions:\")\n",
    "        for model, label in predictions.items():\n",
    "            print(f\"{model}: {label}\")\n",
    "        print(\"-\" * 40)\n",
    "\n",
    "# Run the CLI\n",
    "if __name__ == \"__main__\":\n",
    "    run_cli()\n"
   ]
  }
 ],
 "metadata": {
  "kernelspec": {
   "display_name": "Python 3 (ipykernel)",
   "language": "python",
   "name": "python3"
  },
  "language_info": {
   "codemirror_mode": {
    "name": "ipython",
    "version": 3
   },
   "file_extension": ".py",
   "mimetype": "text/x-python",
   "name": "python",
   "nbconvert_exporter": "python",
   "pygments_lexer": "ipython3",
   "version": "3.13.5"
  }
 },
 "nbformat": 4,
 "nbformat_minor": 5
}
